{
 "cells": [
  {
   "cell_type": "code",
   "execution_count": 1,
   "id": "785ffbe3-9993-4ea0-bb78-6f9ca79dea60",
   "metadata": {},
   "outputs": [],
   "source": [
    "from transformers import AutoTokenizer, AutoModelForSequenceClassification\n",
    "import torch\n",
    "import torch.nn.functional as F"
   ]
  },
  {
   "cell_type": "code",
   "execution_count": 60,
   "id": "e502d3b4-348c-4441-971d-0f2c23b52034",
   "metadata": {},
   "outputs": [],
   "source": [
    "import numpy as np\n",
    "\n",
    "class ModelPipeline():\n",
    "    def __init__(self):\n",
    "        self.tokenizer = AutoTokenizer.from_pretrained(\"noobiebuilder/bert-fintuned-classification\")\n",
    "        \n",
    "        labels = ['normal', 'offensive', 'hatespeech']\n",
    "        id2label = {i: label for i, label in enumerate(labels)}\n",
    "        label2id = {v: k for k, v in id2label.items()}\n",
    "        \n",
    "        self.model = AutoModelForSequenceClassification.from_pretrained(\"noobiebuilder/bert-fintuned-classification\", \n",
    "                                                                        id2label=id2label, label2id=label2id,)\n",
    "\n",
    "    def predict_proba(self, inputs):\n",
    "        sentence = inputs\n",
    "        sentence_token = sentence.split()\n",
    "        sentence_token = self.tokenizer.encode(sentence_token, is_split_into_words=True)\n",
    "        model_input = torch.tensor(sentence_token).unsqueeze(0)\n",
    "\n",
    "        self.model.eval()\n",
    "        with torch.no_grad():\n",
    "            outputs = self.model(model_input, output_attentions=False)\n",
    "            \n",
    "        probas = F.softmax(outputs.logits, dim = 1).detach().numpy()\n",
    "        return probas"
   ]
  },
  {
   "cell_type": "code",
   "execution_count": 61,
   "id": "a23d91f3-a9f4-44bb-a60d-4d93e4dfde4a",
   "metadata": {},
   "outputs": [],
   "source": [
    "pipe = ModelPipeline()"
   ]
  },
  {
   "cell_type": "code",
   "execution_count": 62,
   "id": "bc9fd8ea-7a90-42bf-8660-5bb42517de55",
   "metadata": {},
   "outputs": [],
   "source": [
    "data = \"Fuck this bitch\""
   ]
  },
  {
   "cell_type": "code",
   "execution_count": 63,
   "id": "819ef2fa-0898-4a5a-8661-a68a5878c227",
   "metadata": {},
   "outputs": [
    {
     "data": {
      "text/plain": [
       "array([[0.12527812, 0.8312805 , 0.04344134]], dtype=float32)"
      ]
     },
     "execution_count": 63,
     "metadata": {},
     "output_type": "execute_result"
    }
   ],
   "source": [
    "pipe.predict_proba(data)"
   ]
  },
  {
   "cell_type": "code",
   "execution_count": 49,
   "id": "7578f9ed-5ca8-4f4a-91bf-906c94127175",
   "metadata": {},
   "outputs": [],
   "source": [
    "import modelbit\n",
    "mb = modelbit.login()"
   ]
  },
  {
   "cell_type": "code",
   "execution_count": 64,
   "id": "8f459c3b-16a0-45ca-92a7-c69ecb3a9391",
   "metadata": {},
   "outputs": [],
   "source": [
    "def predict_hate(sentence):\n",
    "    #pipe = ModelPipeline()\n",
    "    prediction = pipe.predict_proba(sentence)\n",
    "    return prediction\n"
   ]
  },
  {
   "cell_type": "code",
   "execution_count": 65,
   "id": "86b91ea8-4b41-469f-afcf-be45fc5abd21",
   "metadata": {},
   "outputs": [
    {
     "data": {
      "text/plain": [
       "array([[0.12527812, 0.8312805 , 0.04344134]], dtype=float32)"
      ]
     },
     "execution_count": 65,
     "metadata": {},
     "output_type": "execute_result"
    }
   ],
   "source": [
    "predict_hate(data)"
   ]
  },
  {
   "cell_type": "code",
   "execution_count": 66,
   "id": "289013cb-6816-4871-b5d3-64ca4fdecf33",
   "metadata": {},
   "outputs": [
    {
     "data": {
      "text/html": [
       "<div style=\"margin: 0; padding: 5px; line-height: 1.75; font-size: 14px; vertical-align: baseline; list-style: none; font-family: Roboto, Arial, sans-serif; background: none;\">\n",
       "  <div>\n",
       "    <span style=\"margin: 0; padding: 0; line-height: 1.75; font-size: 14px; vertical-align: baseline; list-style: none; font-family: Roboto, Arial, sans-serif; background: none; font-weight: bold; color: #15803d;\">Deploying </span> <span style=\"margin: 0; padding: 3px; line-height: 1.75; font-size: 13px; vertical-align: baseline; list-style: none; font-family: monospace; background: none; font-weight: 400; background-color: rgba(209, 213, 219, 0.2);\">predict_hate</span>\n",
       "  </div>\n",
       "  \n",
       "\n",
       "  <div style=\"margin: 0; padding: 0; line-height: 1.75; font-size: 14px; vertical-align: baseline; list-style: none; font-family: Roboto, Arial, sans-serif; background: none;\">Uploading dependencies...</div>\n",
       "</div>"
      ],
      "text/plain": [
       "<IPython.core.display.HTML object>"
      ]
     },
     "metadata": {},
     "output_type": "display_data"
    },
    {
     "name": "stdout",
     "output_type": "stream",
     "text": [
      "Encrypting 'pipe': 450MB [00:02, 173MB/s]                            \n",
      "Uploading 'pipe': 100%|██████████| 402M/402M [00:09<00:00, 43.0MB/s] \n"
     ]
    },
    {
     "data": {
      "text/html": [
       "<div style=\"margin: 0; padding: 5px; line-height: 1.75; font-size: 14px; vertical-align: baseline; list-style: none; font-family: Roboto, Arial, sans-serif; background: none;\">\n",
       "  <div style=\"margin: 0; padding: 0; line-height: 1.75; font-size: 14px; vertical-align: baseline; list-style: none; font-family: Roboto, Arial, sans-serif; background: none; font-weight: bold; color: #15803d;\">Success!</div>\n",
       "  \n",
       "    <div style=\"margin: 0; padding: 0; line-height: 1.75; font-size: 14px; vertical-align: baseline; list-style: none; font-family: Roboto, Arial, sans-serif; background: none;\">\n",
       "      Deployment <span style=\"margin: 0; padding: 3px; line-height: 1.75; font-size: 13px; vertical-align: baseline; list-style: none; font-family: monospace; background: none; font-weight: 400; background-color: rgba(209, 213, 219, 0.2);\">predict_hate</span>\n",
       "      will be ready in  a few seconds!\n",
       "    </div>\n",
       "  \n",
       "\n",
       "  <a href=\"https://ap-south-1.modelbit.com/w/usc/main/deployments/predict_hate/apis\" target=\"_blank\" style=\"display: inline-block; margin-top: 12px;\" >\n",
       "    <div\n",
       "      style=\"display: inline-block; background-color: #845B99; border-radius: 0.375rem; color: white; cursor: pointer; font-size: 14px; font-weight: 700; padding: 8px 16px;\"\n",
       "      onmouseenter=\"this.style.background='#714488'\"\n",
       "      onmouseleave=\"this.style.background='#845B99'\"\n",
       "    >\n",
       "      View in Modelbit\n",
       "    </div>\n",
       "  </a>\n",
       "</div>"
      ],
      "text/plain": [
       "<IPython.core.display.HTML object>"
      ]
     },
     "metadata": {},
     "output_type": "display_data"
    }
   ],
   "source": [
    "mb.deploy(predict_hate)"
   ]
  },
  {
   "cell_type": "code",
   "execution_count": 67,
   "id": "bb525fff-f397-4b00-8b33-096c46c2ef6a",
   "metadata": {},
   "outputs": [
    {
     "data": {
      "text/plain": [
       "{'data': [[0.12527811527252197, 0.831280529499054, 0.04344134405255318]]}"
      ]
     },
     "execution_count": 67,
     "metadata": {},
     "output_type": "execute_result"
    }
   ],
   "source": [
    "import json\n",
    "import requests\n",
    "\n",
    "requests.post(\n",
    "    \"https://usc.ap-south-1.modelbit.com/v1/predict_hate/latest\",\n",
    "    headers={\"Content-Type\": \"application/json\"},\n",
    "    data=json.dumps(\n",
    "        {\n",
    "            \"data\": [\n",
    "                \"Fuck this bitch\",\n",
    "            ]\n",
    "        }\n",
    "    ),\n",
    ").json()"
   ]
  },
  {
   "cell_type": "code",
   "execution_count": 13,
   "id": "83e54fde-5c8d-4b99-ad70-178dd9604d12",
   "metadata": {},
   "outputs": [],
   "source": [
    "import requests\n",
    "import json\n",
    "import numpy as np\n",
    "\n",
    "def get_prediction_lime(sentences):\n",
    "    batch = []\n",
    "    for index, sentence in enumerate(sentences):\n",
    "        batch_element = [int(index)]\n",
    "        batch_element.append(sentence)\n",
    "        batch.append(batch_element)\n",
    "    \n",
    "    predictions = requests.post(\"https://usc.ap-south-1.modelbit.com/v1/predict_hate/latest\",\n",
    "                                headers={\"Content-Type\": \"application/json\"},\n",
    "                                data=json.dumps({\"data\": batch}),).json()\n",
    "    \n",
    "\n",
    "    #print(prediction)\n",
    "    removed_index_pred_batch = []\n",
    "    prediction_batch = predictions['data']\n",
    "    for pred in prediction_batch:\n",
    "        removed_index_pred_batch.append(np.array(pred[1][0]))\n",
    "\n",
    "    return np.array(removed_index_pred_batch)"
   ]
  },
  {
   "cell_type": "code",
   "execution_count": 14,
   "id": "cf3d9d76-9ac2-4f5e-a3fc-b95677ef1da6",
   "metadata": {},
   "outputs": [
    {
     "data": {
      "text/plain": [
       "array([[0.12527812, 0.83128053, 0.04344134],\n",
       "       [0.43427444, 0.50839931, 0.05732629],\n",
       "       [0.41864759, 0.51479369, 0.06655867]])"
      ]
     },
     "execution_count": 14,
     "metadata": {},
     "output_type": "execute_result"
    }
   ],
   "source": [
    "get_prediction_lime([\"Fuck this bitch\", \"Fuck this\", \"Fuck\"])"
   ]
  },
  {
   "cell_type": "code",
   "execution_count": 15,
   "id": "5e713183-2b37-4e4d-8762-9fb1e060ed41",
   "metadata": {},
   "outputs": [],
   "source": [
    "from lime.lime_text import LimeTextExplainer\n",
    "\n",
    "explainer = LimeTextExplainer(class_names=['normal', 'offensive', 'hatespeech'])\n",
    "str_to_predict = \"This bitch always effected me\"\n",
    "exp = explainer.explain_instance(str_to_predict, get_prediction_lime)"
   ]
  },
  {
   "cell_type": "code",
   "execution_count": 92,
   "id": "b5ce81c3-33f6-4d33-b6fd-6dd4d42ab2a1",
   "metadata": {},
   "outputs": [],
   "source": [
    "prediction = [[0, [[0.12527811527252197, 0.831280529499054, 0.04344134405255318]]],\n",
    " [1, [[0.43427443504333496, 0.5083993077278137, 0.0573262944817543]]],\n",
    " [2, [[0.4186475872993469, 0.5147936940193176, 0.06655866652727127]]]]"
   ]
  },
  {
   "cell_type": "code",
   "execution_count": 93,
   "id": "dac78d6d-9300-499e-99bf-5b321b9bfae4",
   "metadata": {},
   "outputs": [
    {
     "data": {
      "text/plain": [
       "[0.12527811527252197, 0.831280529499054, 0.04344134405255318]"
      ]
     },
     "execution_count": 93,
     "metadata": {},
     "output_type": "execute_result"
    }
   ],
   "source": [
    "prediction[0][1][0]"
   ]
  },
  {
   "cell_type": "code",
   "execution_count": 94,
   "id": "e1bc219f-3578-4279-8d43-ff9ce55be658",
   "metadata": {},
   "outputs": [
    {
     "name": "stdout",
     "output_type": "stream",
     "text": [
      "[0.12527811527252197, 0.831280529499054, 0.04344134405255318]\n",
      "[0.43427443504333496, 0.5083993077278137, 0.0573262944817543]\n",
      "[0.4186475872993469, 0.5147936940193176, 0.06655866652727127]\n"
     ]
    }
   ],
   "source": [
    "for pred in prediction:\n",
    "    print(pred[1][0])"
   ]
  },
  {
   "cell_type": "code",
   "execution_count": null,
   "id": "11db2f31-2719-4147-87e6-30b55544add5",
   "metadata": {},
   "outputs": [],
   "source": [
    "exp.show_in_notebook(text=str_to_predict)"
   ]
  },
  {
   "cell_type": "code",
   "execution_count": null,
   "id": "4676322a-bca2-440f-a78e-b4da58e5ee69",
   "metadata": {},
   "outputs": [],
   "source": []
  }
 ],
 "metadata": {
  "kernelspec": {
   "display_name": "Python 3",
   "language": "python",
   "name": "python3"
  },
  "language_info": {
   "codemirror_mode": {
    "name": "ipython",
    "version": 3
   },
   "file_extension": ".py",
   "mimetype": "text/x-python",
   "name": "python",
   "nbconvert_exporter": "python",
   "pygments_lexer": "ipython3",
   "version": "3.10.10"
  }
 },
 "nbformat": 4,
 "nbformat_minor": 5
}
