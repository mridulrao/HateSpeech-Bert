{
 "cells": [
  {
   "cell_type": "code",
   "execution_count": 1,
   "id": "17c42f7d-b8b4-44d7-9209-d281a0f8d8b6",
   "metadata": {},
   "outputs": [],
   "source": [
    "from datasets import load_dataset\n",
    "\n",
    "data_files = {\"train\" : \"train_dataset.json\", \"validation\" : \"valid_dataset.json\"}\n",
    "\n",
    "dataset = load_dataset(\"json\", data_files=data_files)"
   ]
  },
  {
   "cell_type": "code",
   "execution_count": 2,
   "id": "44a5e8b0-7a13-44ff-b89b-aacea99cb4f4",
   "metadata": {},
   "outputs": [
    {
     "data": {
      "text/plain": [
       "DatasetDict({\n",
       "    train: Dataset({\n",
       "        features: ['post_id', 'annotators', 'rationales', 'post_tokens'],\n",
       "        num_rows: 16118\n",
       "    })\n",
       "    validation: Dataset({\n",
       "        features: ['post_id', 'annotators', 'rationales', 'post_tokens'],\n",
       "        num_rows: 8950\n",
       "    })\n",
       "})"
      ]
     },
     "execution_count": 2,
     "metadata": {},
     "output_type": "execute_result"
    }
   ],
   "source": [
    "dataset"
   ]
  },
  {
   "cell_type": "code",
   "execution_count": 3,
   "id": "6d617562-b469-4180-9847-b79b02530796",
   "metadata": {},
   "outputs": [],
   "source": [
    "def get_label(sample):\n",
    "    #get annotator \n",
    "    annotators = sample['annotators']\n",
    "    \n",
    "    #get labels \n",
    "    label_dict = {}\n",
    "    for annotator in annotators:\n",
    "        if annotator['label'] not in label_dict.keys():\n",
    "            label_dict[annotator['label']] = 1\n",
    "        else:\n",
    "            label_dict[annotator['label']] += 1\n",
    "            \n",
    "            \n",
    "    #get final label         \n",
    "    max_label = max(label_dict.values())\n",
    "    res = list(filter(lambda x: label_dict[x] == max_label, label_dict))\n",
    "    \n",
    "    return {\"final_label\": res[0]}"
   ]
  },
  {
   "cell_type": "code",
   "execution_count": 4,
   "id": "b54cb9fa-8c1f-4830-a0b0-1438b38aba5d",
   "metadata": {},
   "outputs": [],
   "source": [
    "dataset = dataset.map(get_label)"
   ]
  },
  {
   "cell_type": "code",
   "execution_count": 5,
   "id": "ff026105-7171-47f2-a85e-8f428d7b49e1",
   "metadata": {},
   "outputs": [
    {
     "data": {
      "text/plain": [
       "DatasetDict({\n",
       "    train: Dataset({\n",
       "        features: ['post_id', 'annotators', 'rationales', 'post_tokens', 'final_label'],\n",
       "        num_rows: 16118\n",
       "    })\n",
       "    validation: Dataset({\n",
       "        features: ['post_id', 'annotators', 'rationales', 'post_tokens', 'final_label'],\n",
       "        num_rows: 8950\n",
       "    })\n",
       "})"
      ]
     },
     "execution_count": 5,
     "metadata": {},
     "output_type": "execute_result"
    }
   ],
   "source": [
    "dataset"
   ]
  },
  {
   "cell_type": "code",
   "execution_count": 6,
   "id": "d0b0579d-0288-458f-b983-b0d8018f1529",
   "metadata": {},
   "outputs": [],
   "source": [
    "post_tokens_train = dataset['train']['post_tokens']\n",
    "post_tokens_test = dataset['validation']['post_tokens']\n",
    "posts_train = [\" \".join(post_token) for post_token in post_tokens_train]\n",
    "posts_test = [\" \".join(post_token) for post_token in post_tokens_test]\n",
    "\n",
    "posts = posts_train + posts_test"
   ]
  },
  {
   "cell_type": "code",
   "execution_count": 7,
   "id": "8d4cb0cd-c9e4-4427-b6b6-49a949bf84e6",
   "metadata": {},
   "outputs": [],
   "source": [
    "labels_train = dataset['train']['final_label']\n",
    "labels_test = dataset['validation']['final_label']\n",
    "\n",
    "labels = labels_train + labels_test"
   ]
  },
  {
   "cell_type": "code",
   "execution_count": 8,
   "id": "69b59ebc-6224-42f1-845d-56c0d10e466e",
   "metadata": {},
   "outputs": [
    {
     "name": "stdout",
     "output_type": "stream",
     "text": [
      "25068 25068\n"
     ]
    }
   ],
   "source": [
    "print(len(posts), len(labels))"
   ]
  },
  {
   "cell_type": "code",
   "execution_count": 9,
   "id": "778c08af-3b7b-47c2-964f-0f128048ca73",
   "metadata": {},
   "outputs": [],
   "source": [
    "from sklearn.feature_extraction.text import TfidfVectorizer\n",
    "\n",
    "vectorizer = TfidfVectorizer()\n",
    "vectorizer = vectorizer.fit(posts)\n",
    "post_vectors = vectorizer.transform(posts)"
   ]
  },
  {
   "cell_type": "code",
   "execution_count": 10,
   "id": "8b4ce828-cb91-4fef-897f-5803b2488dd2",
   "metadata": {},
   "outputs": [],
   "source": [
    "from sklearn.preprocessing import LabelEncoder\n",
    "\n",
    "enc = LabelEncoder()\n",
    "encoded_labels = enc.fit_transform(labels)"
   ]
  },
  {
   "cell_type": "code",
   "execution_count": 11,
   "id": "4bc1d160-7aa7-4e34-ae3e-888df5ab489a",
   "metadata": {},
   "outputs": [],
   "source": [
    "from sklearn.model_selection import train_test_split\n",
    "\n",
    "x_train, x_test, y_train, y_test = train_test_split(post_vectors, encoded_labels, test_size = 0.2)"
   ]
  },
  {
   "cell_type": "code",
   "execution_count": 12,
   "id": "fcf4e636-d083-4032-b0cf-86ee78fcd922",
   "metadata": {},
   "outputs": [
    {
     "data": {
      "text/html": [
       "<style>#sk-container-id-1 {color: black;}#sk-container-id-1 pre{padding: 0;}#sk-container-id-1 div.sk-toggleable {background-color: white;}#sk-container-id-1 label.sk-toggleable__label {cursor: pointer;display: block;width: 100%;margin-bottom: 0;padding: 0.3em;box-sizing: border-box;text-align: center;}#sk-container-id-1 label.sk-toggleable__label-arrow:before {content: \"▸\";float: left;margin-right: 0.25em;color: #696969;}#sk-container-id-1 label.sk-toggleable__label-arrow:hover:before {color: black;}#sk-container-id-1 div.sk-estimator:hover label.sk-toggleable__label-arrow:before {color: black;}#sk-container-id-1 div.sk-toggleable__content {max-height: 0;max-width: 0;overflow: hidden;text-align: left;background-color: #f0f8ff;}#sk-container-id-1 div.sk-toggleable__content pre {margin: 0.2em;color: black;border-radius: 0.25em;background-color: #f0f8ff;}#sk-container-id-1 input.sk-toggleable__control:checked~div.sk-toggleable__content {max-height: 200px;max-width: 100%;overflow: auto;}#sk-container-id-1 input.sk-toggleable__control:checked~label.sk-toggleable__label-arrow:before {content: \"▾\";}#sk-container-id-1 div.sk-estimator input.sk-toggleable__control:checked~label.sk-toggleable__label {background-color: #d4ebff;}#sk-container-id-1 div.sk-label input.sk-toggleable__control:checked~label.sk-toggleable__label {background-color: #d4ebff;}#sk-container-id-1 input.sk-hidden--visually {border: 0;clip: rect(1px 1px 1px 1px);clip: rect(1px, 1px, 1px, 1px);height: 1px;margin: -1px;overflow: hidden;padding: 0;position: absolute;width: 1px;}#sk-container-id-1 div.sk-estimator {font-family: monospace;background-color: #f0f8ff;border: 1px dotted black;border-radius: 0.25em;box-sizing: border-box;margin-bottom: 0.5em;}#sk-container-id-1 div.sk-estimator:hover {background-color: #d4ebff;}#sk-container-id-1 div.sk-parallel-item::after {content: \"\";width: 100%;border-bottom: 1px solid gray;flex-grow: 1;}#sk-container-id-1 div.sk-label:hover label.sk-toggleable__label {background-color: #d4ebff;}#sk-container-id-1 div.sk-serial::before {content: \"\";position: absolute;border-left: 1px solid gray;box-sizing: border-box;top: 0;bottom: 0;left: 50%;z-index: 0;}#sk-container-id-1 div.sk-serial {display: flex;flex-direction: column;align-items: center;background-color: white;padding-right: 0.2em;padding-left: 0.2em;position: relative;}#sk-container-id-1 div.sk-item {position: relative;z-index: 1;}#sk-container-id-1 div.sk-parallel {display: flex;align-items: stretch;justify-content: center;background-color: white;position: relative;}#sk-container-id-1 div.sk-item::before, #sk-container-id-1 div.sk-parallel-item::before {content: \"\";position: absolute;border-left: 1px solid gray;box-sizing: border-box;top: 0;bottom: 0;left: 50%;z-index: -1;}#sk-container-id-1 div.sk-parallel-item {display: flex;flex-direction: column;z-index: 1;position: relative;background-color: white;}#sk-container-id-1 div.sk-parallel-item:first-child::after {align-self: flex-end;width: 50%;}#sk-container-id-1 div.sk-parallel-item:last-child::after {align-self: flex-start;width: 50%;}#sk-container-id-1 div.sk-parallel-item:only-child::after {width: 0;}#sk-container-id-1 div.sk-dashed-wrapped {border: 1px dashed gray;margin: 0 0.4em 0.5em 0.4em;box-sizing: border-box;padding-bottom: 0.4em;background-color: white;}#sk-container-id-1 div.sk-label label {font-family: monospace;font-weight: bold;display: inline-block;line-height: 1.2em;}#sk-container-id-1 div.sk-label-container {text-align: center;}#sk-container-id-1 div.sk-container {/* jupyter's `normalize.less` sets `[hidden] { display: none; }` but bootstrap.min.css set `[hidden] { display: none !important; }` so we also need the `!important` here to be able to override the default hidden behavior on the sphinx rendered scikit-learn.org. See: https://github.com/scikit-learn/scikit-learn/issues/21755 */display: inline-block !important;position: relative;}#sk-container-id-1 div.sk-text-repr-fallback {display: none;}</style><div id=\"sk-container-id-1\" class=\"sk-top-container\"><div class=\"sk-text-repr-fallback\"><pre>RandomForestClassifier(n_estimators=500, random_state=42)</pre><b>In a Jupyter environment, please rerun this cell to show the HTML representation or trust the notebook. <br />On GitHub, the HTML representation is unable to render, please try loading this page with nbviewer.org.</b></div><div class=\"sk-container\" hidden><div class=\"sk-item\"><div class=\"sk-estimator sk-toggleable\"><input class=\"sk-toggleable__control sk-hidden--visually\" id=\"sk-estimator-id-1\" type=\"checkbox\" checked><label for=\"sk-estimator-id-1\" class=\"sk-toggleable__label sk-toggleable__label-arrow\">RandomForestClassifier</label><div class=\"sk-toggleable__content\"><pre>RandomForestClassifier(n_estimators=500, random_state=42)</pre></div></div></div></div></div>"
      ],
      "text/plain": [
       "RandomForestClassifier(n_estimators=500, random_state=42)"
      ]
     },
     "execution_count": 12,
     "metadata": {},
     "output_type": "execute_result"
    }
   ],
   "source": [
    "from sklearn.ensemble import RandomForestClassifier\n",
    "clf = RandomForestClassifier(n_estimators = 500, random_state=42)\n",
    "clf.fit(x_train, y_train)\n"
   ]
  },
  {
   "cell_type": "code",
   "execution_count": 13,
   "id": "d3ee4ef1-4733-41b3-a941-de4204ec1f72",
   "metadata": {},
   "outputs": [
    {
     "name": "stdout",
     "output_type": "stream",
     "text": [
      "0.7415237335460709\n"
     ]
    }
   ],
   "source": [
    "from sklearn.metrics import f1_score\n",
    "\n",
    "y_pred = clf.predict(x_test)\n",
    "f1_score = f1_score(y_test, y_pred, average = 'micro')\n",
    "\n",
    "print(f1_score)"
   ]
  },
  {
   "cell_type": "code",
   "execution_count": 19,
   "id": "8ab86508-adf7-43da-b1df-df9e13eb07cf",
   "metadata": {},
   "outputs": [
    {
     "data": {
      "text/plain": [
       "['random_forest_vectorizer.joblib']"
      ]
     },
     "execution_count": 19,
     "metadata": {},
     "output_type": "execute_result"
    }
   ],
   "source": [
    "import joblib\n",
    "\n",
    "joblib.dump(vectorizer, \"random_forest_vectorizer.joblib\")"
   ]
  },
  {
   "cell_type": "code",
   "execution_count": 20,
   "id": "1bdf8c1c-73ec-44ad-ab5e-fd75d695feaa",
   "metadata": {},
   "outputs": [
    {
     "data": {
      "text/plain": [
       "['random_forest_encoder.joblib']"
      ]
     },
     "execution_count": 20,
     "metadata": {},
     "output_type": "execute_result"
    }
   ],
   "source": [
    "import joblib\n",
    "\n",
    "joblib.dump(enc, \"random_forest_encoder.joblib\")"
   ]
  },
  {
   "cell_type": "code",
   "execution_count": 13,
   "id": "38241b91-19bd-455e-becc-68b786461049",
   "metadata": {},
   "outputs": [],
   "source": [
    "import joblib\n",
    "\n",
    "#joblib.dump(clf, \"random_forest_hatespeech.joblib\")\n",
    "loaded_clf = joblib.load(\"random_forest_hatespeech.joblib\")\n",
    "\n",
    "y_pred = loaded_clf.predict(x_test)"
   ]
  },
  {
   "cell_type": "code",
   "execution_count": 17,
   "id": "e223557a-68e8-4103-ad6e-c0cf9f5cf94c",
   "metadata": {},
   "outputs": [
    {
     "data": {
      "text/plain": [
       "numpy.ndarray"
      ]
     },
     "execution_count": 17,
     "metadata": {},
     "output_type": "execute_result"
    }
   ],
   "source": [
    "type(y_pred)"
   ]
  },
  {
   "cell_type": "code",
   "execution_count": 16,
   "id": "969c0718-247d-40af-97ab-0e1c37c5a023",
   "metadata": {},
   "outputs": [
    {
     "data": {
      "text/plain": [
       "numpy.ndarray"
      ]
     },
     "execution_count": 16,
     "metadata": {},
     "output_type": "execute_result"
    }
   ],
   "source": [
    "type(y_test)"
   ]
  },
  {
   "cell_type": "code",
   "execution_count": 18,
   "id": "a2cf52ea-97df-445e-9fd2-5917f35085df",
   "metadata": {},
   "outputs": [
    {
     "name": "stdout",
     "output_type": "stream",
     "text": [
      "0.9503390506581572\n"
     ]
    }
   ],
   "source": [
    "from sklearn.metrics import f1_score\n",
    "f1_score = f1_score(y_test, y_pred, average = 'micro')\n",
    "\n",
    "print(f1_score)"
   ]
  },
  {
   "cell_type": "markdown",
   "id": "42cf6bda-a92c-4df4-9c44-291ace81cfe0",
   "metadata": {},
   "source": [
    "## Explaining with LIME"
   ]
  },
  {
   "cell_type": "code",
   "execution_count": null,
   "id": "43a90de8-3108-4617-83a7-303a6608814c",
   "metadata": {},
   "outputs": [],
   "source": [
    "list(enc.classes_)"
   ]
  },
  {
   "cell_type": "code",
   "execution_count": null,
   "id": "760a2171-71a4-4a30-9d62-fea4dad52912",
   "metadata": {},
   "outputs": [],
   "source": [
    "from lime import lime_text\n",
    "from sklearn.pipeline import make_pipeline\n",
    "\n",
    "c = make_pipeline(vectorizer, clf)"
   ]
  },
  {
   "cell_type": "code",
   "execution_count": null,
   "id": "3fd380c4-c7ff-4f3d-87a8-7f5ca0217cdd",
   "metadata": {},
   "outputs": [],
   "source": [
    "posts[-1]"
   ]
  },
  {
   "cell_type": "code",
   "execution_count": null,
   "id": "0a5a5938-c66e-44b8-91a3-fd89f94cd0bc",
   "metadata": {},
   "outputs": [],
   "source": [
    "labels[-1]"
   ]
  },
  {
   "cell_type": "code",
   "execution_count": null,
   "id": "dcc335fb-122a-4aa2-881c-2b514929ed07",
   "metadata": {},
   "outputs": [],
   "source": [
    "print(c.predict_proba([posts[-1]]))"
   ]
  },
  {
   "cell_type": "code",
   "execution_count": null,
   "id": "80e811a7-eb29-4f5c-8bc5-0921c91bcd9c",
   "metadata": {},
   "outputs": [],
   "source": [
    "from lime.lime_text import LimeTextExplainer\n",
    "explainer = LimeTextExplainer(class_names = list(enc.classes_))"
   ]
  },
  {
   "cell_type": "code",
   "execution_count": null,
   "id": "76537ef2-099b-44ba-a9fd-e6b36477545f",
   "metadata": {},
   "outputs": [],
   "source": [
    "exp = explainer.explain_instance(posts[-1], c.predict_proba)"
   ]
  },
  {
   "cell_type": "code",
   "execution_count": null,
   "id": "e8a1d5ed-78b9-41e0-a205-59a69df9cdc4",
   "metadata": {},
   "outputs": [],
   "source": [
    "exp.as_list()"
   ]
  },
  {
   "cell_type": "code",
   "execution_count": null,
   "id": "bb72e5e3-10b8-4680-bd1a-e6593dcca09b",
   "metadata": {},
   "outputs": [],
   "source": [
    "%matplotlib inline\n",
    "fig = exp.as_pyplot_figure()"
   ]
  },
  {
   "cell_type": "code",
   "execution_count": null,
   "id": "8cf808b5-8705-4be4-92b1-e360d23d740c",
   "metadata": {},
   "outputs": [],
   "source": [
    "exp.show_in_notebook(text=False)"
   ]
  },
  {
   "cell_type": "code",
   "execution_count": null,
   "id": "908b2db3-cef6-4f05-aa75-b51a629a144b",
   "metadata": {},
   "outputs": [],
   "source": [
    "exp.show_in_notebook(text=True)"
   ]
  },
  {
   "cell_type": "code",
   "execution_count": null,
   "id": "268c2a6f-d798-463a-b34c-1cf7b9fb28be",
   "metadata": {},
   "outputs": [],
   "source": []
  }
 ],
 "metadata": {
  "kernelspec": {
   "display_name": "Python 3",
   "language": "python",
   "name": "python3"
  },
  "language_info": {
   "codemirror_mode": {
    "name": "ipython",
    "version": 3
   },
   "file_extension": ".py",
   "mimetype": "text/x-python",
   "name": "python",
   "nbconvert_exporter": "python",
   "pygments_lexer": "ipython3",
   "version": "3.10.10"
  }
 },
 "nbformat": 4,
 "nbformat_minor": 5
}
